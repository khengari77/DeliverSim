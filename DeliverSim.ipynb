{
 "cells": [
  {
   "cell_type": "code",
   "execution_count": 1,
   "id": "b907d6c8",
   "metadata": {},
   "outputs": [
    {
     "data": {
      "text/html": [
       "<pre style=\"white-space:pre;overflow-x:auto;line-height:normal;font-family:Menlo,'DejaVu Sans Mono',consolas,'Courier New',monospace\">Manim Community <span style=\"color: #008000; text-decoration-color: #008000\">v0.17.2</span>\n",
       "\n",
       "</pre>\n"
      ],
      "text/plain": [
       "Manim Community \u001b[32mv0.\u001b[0m\u001b[32m17.2\u001b[0m\n",
       "\n"
      ]
     },
     "metadata": {},
     "output_type": "display_data"
    }
   ],
   "source": [
    "from manim import *\n",
    "\n",
    "config.media_width = \"75%\"\n",
    "config.verbosity = \"WARNING\"\n",
    "import numpy as np\n",
    "from scipy.stats import lognorm\n"
   ]
  },
  {
   "cell_type": "code",
   "execution_count": null,
   "id": "09cb8233",
   "metadata": {},
   "outputs": [
    {
     "name": "stderr",
     "output_type": "stream",
     "text": [
      "Animation 1: FadeIn(VGroup of 3 submobjects), etc.:  40%|████      | 24/60 [00:08<00:12,  2.89it/s]"
     ]
    }
   ],
   "source": [
    "%%manim -qm DeliverSim\n",
    "\n",
    "# Assumptions:\n",
    "# 1. Time 0 is order time \n",
    "# 2. Driver arrival time is a guassian distribution with predicited prep time as a central limit \n",
    "# 3. Food Ready time is a guassian distribution with pred val as a central limit \n",
    "# 4. loss function: is different for each side.\n",
    "class DeliverSim(Scene):\n",
    "  def construct(self):\n",
    "    self.ax = Axes(x_range=[0, 2430, 30], y_range=[0, 1.1, 0.1], axis_config={'include_ticks': False})\n",
    "    mean = 60*8\n",
    "    mu = ValueTracker(600)\n",
    "    food_ready = np.random.normal(mean, scale=60)\n",
    "    driver_arrival =  np.random.normal(mu.get_value(), scale=60)\n",
    "    \n",
    "    mean_line = self.vert_line(mean, RED)\n",
    "    pred_line = always_redraw(lambda: self.vert_line(mu.get_value(), GREEN))\n",
    "    food_line = self.vert_line(food_ready, YELLOW)\n",
    "    driver_line = self.vert_line(driver_arrival, ORANGE)\n",
    "    \n",
    "    \n",
    "    self.play(Create(self.ax),)          \n",
    "    self.play(FadeIn(mean_line),FadeIn(pred_line), FadeIn(driver_line), FadeIn(food_line), run_time=2)\n",
    "    \n",
    "    \n",
    "  def vert_line(self, mu, color):\n",
    "    point = self.ax.coords_to_point(mu, 1)\n",
    "    dot = Dot(point, color= color)\n",
    "    line = self.ax.get_vertical_line(point, line_config={\"dashed_ratio\": 1,}, color=color)\n",
    "    label = Text(str(int(mu)), font_size=20).next_to(line, DOWN)\n",
    "    return VGroup(dot, line, label)\n",
    "\n",
    "  def loss(): pass"
   ]
  }
 ],
 "metadata": {
  "kernelspec": {
   "display_name": "Python 3 (ipykernel)",
   "language": "python",
   "name": "python3"
  },
  "language_info": {
   "codemirror_mode": {
    "name": "ipython",
    "version": 3
   },
   "file_extension": ".py",
   "mimetype": "text/x-python",
   "name": "python",
   "nbconvert_exporter": "python",
   "pygments_lexer": "ipython3",
   "version": "3.8.16"
  }
 },
 "nbformat": 4,
 "nbformat_minor": 5
}
