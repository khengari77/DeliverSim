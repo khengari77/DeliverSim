{
 "cells": [
  {
   "cell_type": "code",
   "execution_count": null,
   "id": "b907d6c8",
   "metadata": {},
   "outputs": [],
   "source": [
    "from manim import *\n",
    "\n",
    "config.media_width = \"75%\"\n",
    "config.verbosity = \"WARNING\"\n",
    "import numpy as np\n",
    "from scipy.stats import lognorm\n"
   ]
  },
  {
   "cell_type": "code",
   "execution_count": null,
   "id": "09cb8233",
   "metadata": {},
   "outputs": [],
   "source": [
    "%%manim -qm DeliverSim\n",
    "\n",
    "# Assumptions:\n",
    "# 1. Time 0 is order time \n",
    "# 2. Driver arrival time is a guassian distribution with pred val as a central limit \n",
    "# 3. loss function: \n",
    "class DeliverSim(Scene):\n",
    "  def construct(self):\n",
    "    self.ax = Axes(x_range=[0, 2430, 30], y_range=[0, 1.1, 0.1])\n",
    "    mean_line = self.vert_line(60*8, RED)\n",
    "    mu = ValueTracker(600)\n",
    "    pred_line = always_redraw(lambda: self.vert_line(mu.get_value(), GREEN))\n",
    "    self.play(Create(self.ax),)          \n",
    "    self.play(FadeIn(mean_line),FadeIn(pred_line), run_time=2)\n",
    "    \n",
    "    \n",
    "  def vert_line(self, mu, color):\n",
    "    point = self.ax.coords_to_point(mu, 1)\n",
    "    dot = Dot(point, color= color)\n",
    "    line = self.ax.get_vertical_line(point, line_config={\"dashed_ratio\": 1,}, color=color)\n",
    "    label = Text(str(int(mu)), font_size=30).next_to(line, DOWN)\n",
    "    return VGroup(dot, line, label)\n",
    "  "
   ]
  }
 ],
 "metadata": {
  "kernelspec": {
   "display_name": "Python 3 (ipykernel)",
   "language": "python",
   "name": "python3"
  },
  "language_info": {
   "codemirror_mode": {
    "name": "ipython",
    "version": 3
   },
   "file_extension": ".py",
   "mimetype": "text/x-python",
   "name": "python",
   "nbconvert_exporter": "python",
   "pygments_lexer": "ipython3",
   "version": "3.8.16"
  }
 },
 "nbformat": 4,
 "nbformat_minor": 5
}
